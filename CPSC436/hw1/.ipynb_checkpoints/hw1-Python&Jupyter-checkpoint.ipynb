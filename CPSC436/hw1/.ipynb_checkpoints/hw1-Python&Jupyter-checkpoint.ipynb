{
 "cells": [
  {
   "cell_type": "markdown",
   "metadata": {},
   "source": [
    "## Goals\n",
    "- Learn how to use Jupyter and play with Python basics"
   ]
  },
  {
   "cell_type": "markdown",
   "metadata": {},
   "source": [
    "## 1. Python Basics"
   ]
  },
  {
   "cell_type": "markdown",
   "metadata": {},
   "source": [
    "### 1) loop\n",
    "Write a for loop to check each number i in the range of 0~10. If i is even, print 2*i, other write print i+3\n"
   ]
  },
  {
   "cell_type": "code",
   "execution_count": 5,
   "metadata": {},
   "outputs": [
    {
     "name": "stdout",
     "output_type": "stream",
     "text": [
      "[0, 4, 4, 6, 8, 8, 12, 10, 16, 12]\n",
      "0\n",
      "4\n",
      "4\n",
      "6\n",
      "8\n",
      "8\n",
      "12\n",
      "10\n",
      "16\n",
      "12\n"
     ]
    }
   ],
   "source": [
    "items = [i*2 if i%2 == 0 else i+3 for i in range(0, 10)]\n",
    "print(items)\n",
    "for i in range(0, 10):\n",
    "    print((str(i*2) if i%2 == 0 else str(i+3)))"
   ]
  },
  {
   "cell_type": "markdown",
   "metadata": {},
   "source": [
    "### 2) function\n",
    "Define a simple function that returns the square of a number that passes into the function as a parameter. Test your function using 2 and -3, respectively."
   ]
  },
  {
   "cell_type": "code",
   "execution_count": null,
   "metadata": {},
   "outputs": [],
   "source": []
  },
  {
   "cell_type": "markdown",
   "metadata": {},
   "source": [
    "## 2. Common Data Structures in Python"
   ]
  },
  {
   "cell_type": "markdown",
   "metadata": {},
   "source": [
    "### 1) Working with lists\n",
    "Define two lists xList = [1,2,3] and yList = [4,5] and then append yList to Xlist. Iterate over the new Xlist and print each value."
   ]
  },
  {
   "cell_type": "code",
   "execution_count": null,
   "metadata": {},
   "outputs": [],
   "source": []
  },
  {
   "cell_type": "markdown",
   "metadata": {},
   "source": [
    "### 2) Working with tuples\n",
    "Define a tuple with mixed datatype values (1, \"Diabetes\", 3.4) and print the last two values."
   ]
  },
  {
   "cell_type": "code",
   "execution_count": null,
   "metadata": {},
   "outputs": [],
   "source": [
    "\n"
   ]
  },
  {
   "cell_type": "markdown",
   "metadata": {},
   "source": [
    "### 3) Working with Dictionaries\n",
    "Dictionaries are useful for storing and retrieving data as key-value pairs. Define a short dictionary of molar masses. The keys are molecular formulas, and the values are the corresponding molar masses.mw = {'CH4': 16.04, 'H2O': 18.02, 'O2':32.00}. Add a new key-value pair ['CO2': 44.01] and then print all the key-value pairs in the dictionary."
   ]
  },
  {
   "cell_type": "code",
   "execution_count": null,
   "metadata": {},
   "outputs": [],
   "source": []
  }
 ],
 "metadata": {
  "kernelspec": {
   "display_name": "Python 3",
   "language": "python",
   "name": "python3"
  },
  "language_info": {
   "codemirror_mode": {
    "name": "ipython",
    "version": 3
   },
   "file_extension": ".py",
   "mimetype": "text/x-python",
   "name": "python",
   "nbconvert_exporter": "python",
   "pygments_lexer": "ipython3",
   "version": "3.8.10"
  }
 },
 "nbformat": 4,
 "nbformat_minor": 5
}
